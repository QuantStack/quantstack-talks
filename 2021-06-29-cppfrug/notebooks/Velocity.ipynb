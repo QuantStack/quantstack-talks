{
 "cells": [
  {
   "cell_type": "markdown",
   "metadata": {},
   "source": [
    "![xleaflet](images/xleaflet.png)"
   ]
  },
  {
   "cell_type": "markdown",
   "metadata": {},
   "source": [
    "<center> <h1>C++ backend for the jupyter-leaflet map visualization library</h1> </center>"
   ]
  },
  {
   "cell_type": "markdown",
   "metadata": {},
   "source": [
    "<center> <h1>Heatmap</h1> </center>"
   ]
  },
  {
   "cell_type": "code",
   "execution_count": 1,
   "metadata": {},
   "outputs": [],
   "source": [
    "#include \"xleaflet/xmap.hpp\"\n",
    "#include \"xleaflet/xvelocity.hpp\""
   ]
  },
  {
   "cell_type": "code",
   "execution_count": 2,
   "metadata": {},
   "outputs": [
    {
     "data": {
      "application/vnd.jupyter.widget-view+json": {
       "model_id": "a9015a8734944c51bdbce28dc586e9cf",
       "version_major": 2,
       "version_minor": 0
      },
      "text/plain": [
       "A Jupyter widget with unique id: a9015a8734944c51bdbce28dc586e9cf"
      ]
     },
     "execution_count": 2,
     "metadata": {},
     "output_type": "execute_result"
    }
   ],
   "source": [
    "auto map = xlf::map::initialize()\n",
    "    .center({37.58, 261.65})\n",
    "    .zoom(5)\n",
    "    .finalize();\n",
    "\n",
    "auto base_layer = xlf::basemap({\"CartoDB\", \"DarkMatter\"});\n",
    "map.add_layer(base_layer);\n",
    "\n",
    "map"
   ]
  },
  {
   "cell_type": "code",
   "execution_count": 3,
   "metadata": {},
   "outputs": [],
   "source": [
    "#include \"nlohmann/json.hpp\"\n",
    "#include <fstream>\n",
    "\n",
    "std::ifstream file(\"velocity_data.json\");\n",
    "nlohmann::json data;\n",
    "file >> data;\n",
    "\n",
    "auto velocity = xlf::velocity::initialize()\n",
    "    .data(data)\n",
    "    .velocity_scale(0.01)\n",
    "    .max_velocity(20)\n",
    "    .display_options(R\"({\n",
    "        \"velocityType\": \"Global Wind\",\n",
    "        \"displayPosition\": \"bottomleft\",\n",
    "        \"displayEmptyString\": \"No wind data\"\n",
    "    })\")\n",
    "    .finalize();\n",
    "\n",
    "map.add_layer(velocity);"
   ]
  },
  {
   "cell_type": "code",
   "execution_count": null,
   "metadata": {},
   "outputs": [],
   "source": []
  }
 ],
 "metadata": {
  "kernelspec": {
   "display_name": "C++14",
   "language": "C++14",
   "name": "xcpp14"
  },
  "language_info": {
   "codemirror_mode": "text/x-c++src",
   "file_extension": ".cpp",
   "mimetype": "text/x-c++src",
   "name": "c++",
   "version": "14"
  }
 },
 "nbformat": 4,
 "nbformat_minor": 4
}
