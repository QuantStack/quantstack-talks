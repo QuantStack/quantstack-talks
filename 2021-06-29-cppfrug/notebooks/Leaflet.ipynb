{
 "cells": [
  {
   "cell_type": "markdown",
   "metadata": {},
   "source": [
    "![xleaflet](images/xleaflet.png)"
   ]
  },
  {
   "cell_type": "markdown",
   "metadata": {},
   "source": [
    "<center> <h1>C++ backend for the jupyter-leaflet map visualization library</h1> </center>"
   ]
  },
  {
   "cell_type": "markdown",
   "metadata": {},
   "source": [
    "<center> <h1>Basic usage</h1> </center>"
   ]
  },
  {
   "cell_type": "code",
   "execution_count": 1,
   "metadata": {},
   "outputs": [],
   "source": [
    "#include <iostream>\n",
    "#include <string>\n",
    "\n",
    "#include \"xleaflet/xmap.hpp\"\n",
    "#include \"xleaflet/xtile_layer.hpp\"\n",
    "#include \"xleaflet/xmarker.hpp\"\n",
    "#include \"xleaflet/xmarker_cluster.hpp\"\n",
    "#include \"xleaflet/xbasemaps.hpp\"\n",
    "\n",
    "#include \"xwidgets/xbox.hpp\"\n",
    "#include \"xwidgets/xtext.hpp\"\n",
    "#include \"xwidgets/xlabel.hpp\""
   ]
  },
  {
   "cell_type": "markdown",
   "metadata": {},
   "source": [
    "## Create a ``map`` widget with some ``text`` widgets"
   ]
  },
  {
   "cell_type": "code",
   "execution_count": 2,
   "metadata": {},
   "outputs": [
    {
     "data": {
      "application/vnd.jupyter.widget-view+json": {
       "model_id": "5ba3c362d76345babc484045bf4ee1c3",
       "version_major": 2,
       "version_minor": 0
      },
      "text/plain": [
       "A Jupyter widget with unique id: 5ba3c362d76345babc484045bf4ee1c3"
      ]
     },
     "execution_count": 2,
     "metadata": {},
     "output_type": "execute_result"
    }
   ],
   "source": [
    "auto map = xlf::map::initialize()\n",
    "    .center({50, 354})\n",
    "    .zoom(5)\n",
    "    .finalize();\n",
    "\n",
    "xw::vbox vbox;\n",
    "xw::hbox hbox1, hbox2;\n",
    "xw::label label1, label2;\n",
    "xw::text center, mouse_position;\n",
    "\n",
    "center.disabled = true;\n",
    "mouse_position.disabled = true;\n",
    "\n",
    "vbox.add(map);\n",
    "vbox.add(hbox1);\n",
    "vbox.add(hbox2);\n",
    "\n",
    "label1.value = \"Center:\";\n",
    "center.value = \"[50.0, 354.0]\";\n",
    "hbox1.add(label1);\n",
    "hbox1.add(center);\n",
    "\n",
    "label2.value = \"Mouse position:\";\n",
    "mouse_position.value = \"Mouse out\";\n",
    "hbox2.add(label2);\n",
    "hbox2.add(mouse_position);\n",
    "\n",
    "vbox"
   ]
  },
  {
   "cell_type": "markdown",
   "metadata": {},
   "source": [
    "## Observer on ``map.center``"
   ]
  },
  {
   "cell_type": "code",
   "execution_count": 3,
   "metadata": {},
   "outputs": [],
   "source": [
    "void update_center(xlf::map& map)\n",
    "{\n",
    "    std::string lat = std::to_string(map.center().front());\n",
    "    std::string lng = std::to_string(map.center().back());\n",
    "    \n",
    "    center.value = \"[\" + lat + \", \" + lng + \"]\";\n",
    "}\n",
    "\n",
    "XOBSERVE(map, center, update_center);"
   ]
  },
  {
   "cell_type": "code",
   "execution_count": 4,
   "metadata": {},
   "outputs": [],
   "source": [
    "void update_mouse_position(nl::json event)\n",
    "{\n",
    "    if (event[\"type\"] == \"mousemove\")\n",
    "    {\n",
    "        mouse_position.value = event[\"coordinates\"].dump();\n",
    "    }\n",
    "    \n",
    "    if (event[\"type\"] == \"mouseout\")\n",
    "    {\n",
    "        mouse_position.value = \"Mouse out\";\n",
    "    }\n",
    "}\n",
    "\n",
    "map.on_interaction(update_mouse_position);"
   ]
  },
  {
   "cell_type": "markdown",
   "metadata": {},
   "source": [
    "## Display available base maps"
   ]
  },
  {
   "cell_type": "code",
   "execution_count": null,
   "metadata": {},
   "outputs": [],
   "source": [
    "xlf::basemaps().dump(6)"
   ]
  },
  {
   "cell_type": "markdown",
   "metadata": {},
   "source": [
    "## Create a ``tile_layer``"
   ]
  },
  {
   "cell_type": "code",
   "execution_count": 5,
   "metadata": {},
   "outputs": [],
   "source": [
    "auto nasa_layer = xlf::basemap({\"NASAGIBS\", \"ModisTerraTrueColorCR\"}, \"2017-04-08\");\n",
    "map.add_layer(nasa_layer);"
   ]
  },
  {
   "cell_type": "markdown",
   "metadata": {},
   "source": [
    "## Create a ``marker_cluster``"
   ]
  },
  {
   "cell_type": "code",
   "execution_count": 6,
   "metadata": {},
   "outputs": [],
   "source": [
    "auto marker1 = xlf::marker::initialize()\n",
    "    .location({50, 354})\n",
    "    .finalize();\n",
    "auto marker2 = xlf::marker::initialize()\n",
    "    .location({52, 356})\n",
    "    .finalize();\n",
    "auto marker3 = xlf::marker::initialize()\n",
    "    .location({48, 352})\n",
    "    .finalize();\n",
    "auto marker_cluster = xlf::marker_cluster::initialize()\n",
    "    .markers({marker1, marker2, marker3})\n",
    "    .finalize();\n",
    "\n",
    "map.add_layer(marker_cluster);"
   ]
  },
  {
   "cell_type": "markdown",
   "metadata": {},
   "source": [
    "## Remove a layer from the ``map``"
   ]
  },
  {
   "cell_type": "code",
   "execution_count": null,
   "metadata": {},
   "outputs": [],
   "source": [
    "map.remove_layer(marker_cluster);"
   ]
  },
  {
   "cell_type": "markdown",
   "metadata": {},
   "source": [
    "## Create a single custom ``marker`` with a ``on_move`` callback"
   ]
  },
  {
   "cell_type": "code",
   "execution_count": 7,
   "metadata": {},
   "outputs": [],
   "source": [
    "using size_type = std::array<int, 2>;\n",
    "size_type icon_size({38, 95});\n",
    "size_type icon_anchor({22, 94});\n",
    "\n",
    "auto icon = xlf::icon::initialize()\n",
    "    .icon_url(\"https://leafletjs.com/examples/custom-icons/leaf-red.png\")\n",
    "    .icon_size(icon_size)\n",
    "    .icon_anchor(icon_anchor)\n",
    "    .finalize();\n",
    "\n",
    "auto marker = xlf::marker::initialize()\n",
    "    .location({50, 356})\n",
    "    .icon(icon)\n",
    "    .rotation_angle(90)\n",
    "    .rotation_origin(\"22px 94px\")\n",
    "    .finalize();\n",
    "\n",
    "map.add_layer(marker);"
   ]
  },
  {
   "cell_type": "code",
   "execution_count": null,
   "metadata": {},
   "outputs": [],
   "source": [
    "void print_location(nl::json event)\n",
    "{\n",
    "    std::cout << \"marker location: (\" << event.find(\"location\").value().at(0) \n",
    "        << \", \" << event.find(\"location\").value().at(1) << \")\" << std::endl;\n",
    "}\n",
    "\n",
    "marker.on_move(print_location);"
   ]
  }
 ],
 "metadata": {
  "kernelspec": {
   "display_name": "C++14",
   "language": "C++14",
   "name": "xcpp14"
  },
  "language_info": {
   "codemirror_mode": "text/x-c++src",
   "file_extension": ".cpp",
   "mimetype": "text/x-c++src",
   "name": "c++",
   "version": "14"
  }
 },
 "nbformat": 4,
 "nbformat_minor": 4
}
